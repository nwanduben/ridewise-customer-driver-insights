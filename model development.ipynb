{
 "cells": [
  {
   "cell_type": "code",
   "execution_count": 1,
   "id": "b7d84d68-2e29-475f-96fe-783f7759eda7",
   "metadata": {},
   "outputs": [],
   "source": [
    "import pandas as pd\n",
    "import numpy as np\n",
    "from sklearn.model_selection import train_test_split, GridSearchCV,RandomizedSearchCV\n",
    "from sklearn.linear_model import LogisticRegression\n",
    "from sklearn.impute import SimpleImputer\n",
    "from sklearn.pipeline import Pipeline\n",
    "from sklearn.compose import ColumnTransformer\n",
    "from sklearn.preprocessing import MinMaxScaler, OneHotEncoder\n",
    "from sklearn.metrics import roc_auc_score, precision_score, mean_absolute_error, r2_score\n",
    "from sklearn.metrics import roc_curve, precision_recall_curve\n",
    "from imblearn.over_sampling import SMOTE\n",
    "#import xgboost as xgb\n",
    "#import shap\n",
    "import matplotlib.pyplot as plt\n",
    "from datetime import datetime\n",
    "\n"
   ]
  },
  {
   "cell_type": "code",
   "execution_count": 15,
   "id": "2b52a505-b698-418b-aa0f-be1d8e74f58c",
   "metadata": {},
   "outputs": [],
   "source": [
    "\n",
    "riders_data = pd.read_csv('riders.csv')\n",
    "riders_rfm = pd.read_csv('riders_rfm.csv')\n",
    "df = pd.merge(riders_rfm, riders_data[['user_id', 'churn_prob','age','loyalty_status','city']], on='user_id')"
   ]
  },
  {
   "cell_type": "code",
   "execution_count": 17,
   "id": "24aab171-2ebb-4d0c-96dd-d662b85dd864",
   "metadata": {},
   "outputs": [
    {
     "data": {
      "text/html": [
       "<div>\n",
       "<style scoped>\n",
       "    .dataframe tbody tr th:only-of-type {\n",
       "        vertical-align: middle;\n",
       "    }\n",
       "\n",
       "    .dataframe tbody tr th {\n",
       "        vertical-align: top;\n",
       "    }\n",
       "\n",
       "    .dataframe thead th {\n",
       "        text-align: right;\n",
       "    }\n",
       "</style>\n",
       "<table border=\"1\" class=\"dataframe\">\n",
       "  <thead>\n",
       "    <tr style=\"text-align: right;\">\n",
       "      <th></th>\n",
       "      <th>user_id</th>\n",
       "      <th>signup_date</th>\n",
       "      <th>loyalty_status</th>\n",
       "      <th>age</th>\n",
       "      <th>city</th>\n",
       "      <th>avg_rating_given</th>\n",
       "      <th>churn_prob</th>\n",
       "      <th>referred_by</th>\n",
       "    </tr>\n",
       "  </thead>\n",
       "  <tbody>\n",
       "    <tr>\n",
       "      <th>0</th>\n",
       "      <td>R00000</td>\n",
       "      <td>2025-01-24</td>\n",
       "      <td>Bronze</td>\n",
       "      <td>34.729629</td>\n",
       "      <td>Nairobi</td>\n",
       "      <td>5.0</td>\n",
       "      <td>0.142431</td>\n",
       "      <td>R00001</td>\n",
       "    </tr>\n",
       "    <tr>\n",
       "      <th>1</th>\n",
       "      <td>R00001</td>\n",
       "      <td>2024-09-09</td>\n",
       "      <td>Bronze</td>\n",
       "      <td>34.571020</td>\n",
       "      <td>Nairobi</td>\n",
       "      <td>4.7</td>\n",
       "      <td>0.674161</td>\n",
       "      <td>NaN</td>\n",
       "    </tr>\n",
       "    <tr>\n",
       "      <th>2</th>\n",
       "      <td>R00002</td>\n",
       "      <td>2024-09-07</td>\n",
       "      <td>Bronze</td>\n",
       "      <td>47.133960</td>\n",
       "      <td>Lagos</td>\n",
       "      <td>4.2</td>\n",
       "      <td>0.510379</td>\n",
       "      <td>NaN</td>\n",
       "    </tr>\n",
       "    <tr>\n",
       "      <th>3</th>\n",
       "      <td>R00003</td>\n",
       "      <td>2025-03-17</td>\n",
       "      <td>Bronze</td>\n",
       "      <td>41.658628</td>\n",
       "      <td>Nairobi</td>\n",
       "      <td>4.9</td>\n",
       "      <td>0.244779</td>\n",
       "      <td>NaN</td>\n",
       "    </tr>\n",
       "    <tr>\n",
       "      <th>4</th>\n",
       "      <td>R00004</td>\n",
       "      <td>2024-08-20</td>\n",
       "      <td>Silver</td>\n",
       "      <td>40.681709</td>\n",
       "      <td>Lagos</td>\n",
       "      <td>3.9</td>\n",
       "      <td>0.269960</td>\n",
       "      <td>R00002</td>\n",
       "    </tr>\n",
       "  </tbody>\n",
       "</table>\n",
       "</div>"
      ],
      "text/plain": [
       "  user_id signup_date loyalty_status        age     city  avg_rating_given  \\\n",
       "0  R00000  2025-01-24         Bronze  34.729629  Nairobi               5.0   \n",
       "1  R00001  2024-09-09         Bronze  34.571020  Nairobi               4.7   \n",
       "2  R00002  2024-09-07         Bronze  47.133960    Lagos               4.2   \n",
       "3  R00003  2025-03-17         Bronze  41.658628  Nairobi               4.9   \n",
       "4  R00004  2024-08-20         Silver  40.681709    Lagos               3.9   \n",
       "\n",
       "   churn_prob referred_by  \n",
       "0    0.142431      R00001  \n",
       "1    0.674161         NaN  \n",
       "2    0.510379         NaN  \n",
       "3    0.244779         NaN  \n",
       "4    0.269960      R00002  "
      ]
     },
     "execution_count": 17,
     "metadata": {},
     "output_type": "execute_result"
    }
   ],
   "source": [
    "riders_data.head()"
   ]
  },
  {
   "cell_type": "code",
   "execution_count": 19,
   "id": "2a8674c6-15ae-4c46-bab2-b838665672a3",
   "metadata": {},
   "outputs": [
    {
     "data": {
      "text/html": [
       "<div>\n",
       "<style scoped>\n",
       "    .dataframe tbody tr th:only-of-type {\n",
       "        vertical-align: middle;\n",
       "    }\n",
       "\n",
       "    .dataframe tbody tr th {\n",
       "        vertical-align: top;\n",
       "    }\n",
       "\n",
       "    .dataframe thead th {\n",
       "        text-align: right;\n",
       "    }\n",
       "</style>\n",
       "<table border=\"1\" class=\"dataframe\">\n",
       "  <thead>\n",
       "    <tr style=\"text-align: right;\">\n",
       "      <th></th>\n",
       "      <th>user_id</th>\n",
       "      <th>recency</th>\n",
       "      <th>frequency</th>\n",
       "      <th>monetary</th>\n",
       "    </tr>\n",
       "  </thead>\n",
       "  <tbody>\n",
       "    <tr>\n",
       "      <th>0</th>\n",
       "      <td>R00000</td>\n",
       "      <td>48</td>\n",
       "      <td>25</td>\n",
       "      <td>366.05</td>\n",
       "    </tr>\n",
       "    <tr>\n",
       "      <th>1</th>\n",
       "      <td>R00001</td>\n",
       "      <td>28</td>\n",
       "      <td>14</td>\n",
       "      <td>180.53</td>\n",
       "    </tr>\n",
       "    <tr>\n",
       "      <th>2</th>\n",
       "      <td>R00002</td>\n",
       "      <td>37</td>\n",
       "      <td>24</td>\n",
       "      <td>378.99</td>\n",
       "    </tr>\n",
       "    <tr>\n",
       "      <th>3</th>\n",
       "      <td>R00003</td>\n",
       "      <td>84</td>\n",
       "      <td>9</td>\n",
       "      <td>121.47</td>\n",
       "    </tr>\n",
       "    <tr>\n",
       "      <th>4</th>\n",
       "      <td>R00004</td>\n",
       "      <td>35</td>\n",
       "      <td>16</td>\n",
       "      <td>268.43</td>\n",
       "    </tr>\n",
       "  </tbody>\n",
       "</table>\n",
       "</div>"
      ],
      "text/plain": [
       "  user_id  recency  frequency  monetary\n",
       "0  R00000       48         25    366.05\n",
       "1  R00001       28         14    180.53\n",
       "2  R00002       37         24    378.99\n",
       "3  R00003       84          9    121.47\n",
       "4  R00004       35         16    268.43"
      ]
     },
     "execution_count": 19,
     "metadata": {},
     "output_type": "execute_result"
    }
   ],
   "source": [
    "riders_rfm.head()"
   ]
  },
  {
   "cell_type": "code",
   "execution_count": 21,
   "id": "cd0009b5-4dcc-4d04-bb60-74a2fe04c248",
   "metadata": {},
   "outputs": [
    {
     "data": {
      "text/html": [
       "<div>\n",
       "<style scoped>\n",
       "    .dataframe tbody tr th:only-of-type {\n",
       "        vertical-align: middle;\n",
       "    }\n",
       "\n",
       "    .dataframe tbody tr th {\n",
       "        vertical-align: top;\n",
       "    }\n",
       "\n",
       "    .dataframe thead th {\n",
       "        text-align: right;\n",
       "    }\n",
       "</style>\n",
       "<table border=\"1\" class=\"dataframe\">\n",
       "  <thead>\n",
       "    <tr style=\"text-align: right;\">\n",
       "      <th></th>\n",
       "      <th>user_id</th>\n",
       "      <th>recency</th>\n",
       "      <th>frequency</th>\n",
       "      <th>monetary</th>\n",
       "      <th>churn_prob</th>\n",
       "      <th>age</th>\n",
       "      <th>loyalty_status</th>\n",
       "      <th>city</th>\n",
       "    </tr>\n",
       "  </thead>\n",
       "  <tbody>\n",
       "    <tr>\n",
       "      <th>0</th>\n",
       "      <td>R00000</td>\n",
       "      <td>48</td>\n",
       "      <td>25</td>\n",
       "      <td>366.05</td>\n",
       "      <td>0.142431</td>\n",
       "      <td>34.729629</td>\n",
       "      <td>Bronze</td>\n",
       "      <td>Nairobi</td>\n",
       "    </tr>\n",
       "    <tr>\n",
       "      <th>1</th>\n",
       "      <td>R00001</td>\n",
       "      <td>28</td>\n",
       "      <td>14</td>\n",
       "      <td>180.53</td>\n",
       "      <td>0.674161</td>\n",
       "      <td>34.571020</td>\n",
       "      <td>Bronze</td>\n",
       "      <td>Nairobi</td>\n",
       "    </tr>\n",
       "    <tr>\n",
       "      <th>2</th>\n",
       "      <td>R00002</td>\n",
       "      <td>37</td>\n",
       "      <td>24</td>\n",
       "      <td>378.99</td>\n",
       "      <td>0.510379</td>\n",
       "      <td>47.133960</td>\n",
       "      <td>Bronze</td>\n",
       "      <td>Lagos</td>\n",
       "    </tr>\n",
       "    <tr>\n",
       "      <th>3</th>\n",
       "      <td>R00003</td>\n",
       "      <td>84</td>\n",
       "      <td>9</td>\n",
       "      <td>121.47</td>\n",
       "      <td>0.244779</td>\n",
       "      <td>41.658628</td>\n",
       "      <td>Bronze</td>\n",
       "      <td>Nairobi</td>\n",
       "    </tr>\n",
       "    <tr>\n",
       "      <th>4</th>\n",
       "      <td>R00004</td>\n",
       "      <td>35</td>\n",
       "      <td>16</td>\n",
       "      <td>268.43</td>\n",
       "      <td>0.269960</td>\n",
       "      <td>40.681709</td>\n",
       "      <td>Silver</td>\n",
       "      <td>Lagos</td>\n",
       "    </tr>\n",
       "  </tbody>\n",
       "</table>\n",
       "</div>"
      ],
      "text/plain": [
       "  user_id  recency  frequency  monetary  churn_prob        age loyalty_status  \\\n",
       "0  R00000       48         25    366.05    0.142431  34.729629         Bronze   \n",
       "1  R00001       28         14    180.53    0.674161  34.571020         Bronze   \n",
       "2  R00002       37         24    378.99    0.510379  47.133960         Bronze   \n",
       "3  R00003       84          9    121.47    0.244779  41.658628         Bronze   \n",
       "4  R00004       35         16    268.43    0.269960  40.681709         Silver   \n",
       "\n",
       "      city  \n",
       "0  Nairobi  \n",
       "1  Nairobi  \n",
       "2    Lagos  \n",
       "3  Nairobi  \n",
       "4    Lagos  "
      ]
     },
     "execution_count": 21,
     "metadata": {},
     "output_type": "execute_result"
    }
   ],
   "source": [
    "df.head()"
   ]
  },
  {
   "cell_type": "code",
   "execution_count": 23,
   "id": "635ab273-e428-4f23-88dc-8233df506511",
   "metadata": {},
   "outputs": [
    {
     "data": {
      "text/html": [
       "<div>\n",
       "<style scoped>\n",
       "    .dataframe tbody tr th:only-of-type {\n",
       "        vertical-align: middle;\n",
       "    }\n",
       "\n",
       "    .dataframe tbody tr th {\n",
       "        vertical-align: top;\n",
       "    }\n",
       "\n",
       "    .dataframe thead th {\n",
       "        text-align: right;\n",
       "    }\n",
       "</style>\n",
       "<table border=\"1\" class=\"dataframe\">\n",
       "  <thead>\n",
       "    <tr style=\"text-align: right;\">\n",
       "      <th></th>\n",
       "      <th>user_id</th>\n",
       "      <th>recency</th>\n",
       "      <th>frequency</th>\n",
       "      <th>monetary</th>\n",
       "      <th>age</th>\n",
       "      <th>loyalty_status</th>\n",
       "      <th>city</th>\n",
       "      <th>churned</th>\n",
       "    </tr>\n",
       "  </thead>\n",
       "  <tbody>\n",
       "    <tr>\n",
       "      <th>0</th>\n",
       "      <td>R00000</td>\n",
       "      <td>48</td>\n",
       "      <td>25</td>\n",
       "      <td>366.05</td>\n",
       "      <td>34.729629</td>\n",
       "      <td>Bronze</td>\n",
       "      <td>Nairobi</td>\n",
       "      <td>0</td>\n",
       "    </tr>\n",
       "    <tr>\n",
       "      <th>1</th>\n",
       "      <td>R00001</td>\n",
       "      <td>28</td>\n",
       "      <td>14</td>\n",
       "      <td>180.53</td>\n",
       "      <td>34.571020</td>\n",
       "      <td>Bronze</td>\n",
       "      <td>Nairobi</td>\n",
       "      <td>1</td>\n",
       "    </tr>\n",
       "    <tr>\n",
       "      <th>2</th>\n",
       "      <td>R00002</td>\n",
       "      <td>37</td>\n",
       "      <td>24</td>\n",
       "      <td>378.99</td>\n",
       "      <td>47.133960</td>\n",
       "      <td>Bronze</td>\n",
       "      <td>Lagos</td>\n",
       "      <td>1</td>\n",
       "    </tr>\n",
       "    <tr>\n",
       "      <th>3</th>\n",
       "      <td>R00003</td>\n",
       "      <td>84</td>\n",
       "      <td>9</td>\n",
       "      <td>121.47</td>\n",
       "      <td>41.658628</td>\n",
       "      <td>Bronze</td>\n",
       "      <td>Nairobi</td>\n",
       "      <td>0</td>\n",
       "    </tr>\n",
       "    <tr>\n",
       "      <th>4</th>\n",
       "      <td>R00004</td>\n",
       "      <td>35</td>\n",
       "      <td>16</td>\n",
       "      <td>268.43</td>\n",
       "      <td>40.681709</td>\n",
       "      <td>Silver</td>\n",
       "      <td>Lagos</td>\n",
       "      <td>0</td>\n",
       "    </tr>\n",
       "  </tbody>\n",
       "</table>\n",
       "</div>"
      ],
      "text/plain": [
       "  user_id  recency  frequency  monetary        age loyalty_status     city  \\\n",
       "0  R00000       48         25    366.05  34.729629         Bronze  Nairobi   \n",
       "1  R00001       28         14    180.53  34.571020         Bronze  Nairobi   \n",
       "2  R00002       37         24    378.99  47.133960         Bronze    Lagos   \n",
       "3  R00003       84          9    121.47  41.658628         Bronze  Nairobi   \n",
       "4  R00004       35         16    268.43  40.681709         Silver    Lagos   \n",
       "\n",
       "   churned  \n",
       "0        0  \n",
       "1        1  \n",
       "2        1  \n",
       "3        0  \n",
       "4        0  "
      ]
     },
     "execution_count": 23,
     "metadata": {},
     "output_type": "execute_result"
    }
   ],
   "source": [
    "# Create target column\n",
    "df['churned'] = (df['churn_prob'] > 0.5).astype(int)\n",
    "df = df.drop(columns=['churn_prob'])\n",
    "\n",
    "target_column = 'churned'\n",
    "X = df.drop(columns=[target_column, 'user_id'])\n",
    "y = df[target_column]\n",
    "\n",
    "df.head()"
   ]
  },
  {
   "cell_type": "code",
   "execution_count": 25,
   "id": "d3a3604b-28a7-410a-a052-6d43eab8e188",
   "metadata": {},
   "outputs": [],
   "source": [
    "categorical_columns = ['loyalty_status','city']\n",
    "numerical_columns =['recency','frequency','monetary','age',]\n",
    "            \n",
    "#Build a pipeline for numerical features:\n",
    "# Impute missing values using the median.\n",
    "# Scale the features using StandardScaler.\n",
    "numerical_pipeline = Pipeline(\n",
    "    steps=[\n",
    "        (\"imputer\",SimpleImputer(strategy=\"median\")), \n",
    "        (\"scaler\",MinMaxScaler()),  \n",
    "        ])\n",
    "# Build a pipeline for categorical features:\n",
    "# Impute missing values using the most frequent value.\n",
    "# One-hot encode categorical features.\n",
    "categorical_pipeline = Pipeline(\n",
    "        steps=[\n",
    "            (\"imputer\", SimpleImputer(strategy=\"most_frequent\")),\n",
    "            (\"OneHotEncoder\", OneHotEncoder())\n",
    "            ])\n",
    "\n",
    "# Combine both pipelines into a single ColumnTransformer.\n",
    "preprocessor = ColumnTransformer(\n",
    "    transformers=[\n",
    "        (\"num_pipeline\", numerical_pipeline, numerical_columns),\n",
    "        (\"cat_pipeline\", categorical_pipeline, categorical_columns)\n",
    "        ])\n"
   ]
  },
  {
   "cell_type": "code",
   "execution_count": 27,
   "id": "d89a38c0-2074-4741-9094-3626762b581e",
   "metadata": {},
   "outputs": [],
   "source": [
    "X_transformed = preprocessor.fit_transform(X)\n",
    "\n",
    "## Retrieve column names generated by the OneHotEncoder for categorical features.\n",
    "ohe = preprocessor.named_transformers_[\"cat_pipeline\"].named_steps[\"OneHotEncoder\"]\n",
    "ohe_feature_names = list(ohe.get_feature_names_out(categorical_columns))\n",
    "\n",
    "# Combine numeric columns with one-hot encoded categorical column names.\n",
    "final_columns = numerical_columns + ohe_feature_names\n",
    "\n",
    "# Construct a new DataFrame with the transformed features.\n",
    "X_transformed_df = pd.DataFrame(X_transformed, columns=final_columns)\n"
   ]
  },
  {
   "cell_type": "code",
   "execution_count": 29,
   "id": "0609603e-b839-4229-97b5-088cf6ffd44d",
   "metadata": {},
   "outputs": [],
   "source": [
    "#Apply SMOTE for balancing classes\n",
    "smote = SMOTE(random_state=42)\n",
    "X_resampled, y_resampled = smote.fit_resample(X_transformed_df, y)\n"
   ]
  },
  {
   "cell_type": "code",
   "execution_count": 31,
   "id": "6054f092-18ba-48d9-9b38-90d562dd37b2",
   "metadata": {},
   "outputs": [
    {
     "name": "stdout",
     "output_type": "stream",
     "text": [
      "After SMOTE - Class 1: 8937, Class 0: 8937\n"
     ]
    }
   ],
   "source": [
    "print(f\"After SMOTE - Class 1: {sum(y_resampled == 1)}, Class 0: {sum(y_resampled == 0)}\")"
   ]
  },
  {
   "cell_type": "code",
   "execution_count": 33,
   "id": "ed9f1093-5b06-4136-8de1-c2e1a5ed26de",
   "metadata": {},
   "outputs": [],
   "source": [
    "X_train, X_test, y_train, y_test = train_test_split(\n",
    "    X_resampled, y_resampled, test_size=0.2, random_state=42, stratify=y_resampled)\n"
   ]
  },
  {
   "cell_type": "code",
   "execution_count": 35,
   "id": "0c4588f0-1a8c-4dba-b6ea-b58b7a36530b",
   "metadata": {},
   "outputs": [
    {
     "data": {
      "text/plain": [
       "10031    1\n",
       "6172     0\n",
       "2190     0\n",
       "10375    1\n",
       "2514     0\n",
       "Name: churned, dtype: int32"
      ]
     },
     "execution_count": 35,
     "metadata": {},
     "output_type": "execute_result"
    }
   ],
   "source": [
    "y_train.head()"
   ]
  },
  {
   "cell_type": "code",
   "execution_count": 37,
   "id": "e8b7d605-581f-4318-9e09-38cc5603b11a",
   "metadata": {},
   "outputs": [
    {
     "name": "stdout",
     "output_type": "stream",
     "text": [
      "AUC: 0.525\n",
      "Precision: 0.510\n"
     ]
    }
   ],
   "source": [
    "log_reg = LogisticRegression(random_state=42,max_iter=1000)\n",
    "# Fit the model\n",
    "log_reg.fit(X_train, y_train)\n",
    "# Predictions\n",
    "y_pred = log_reg.predict(X_test)\n",
    "y_pred_proba = log_reg.predict_proba(X_test)[:, 1]\n",
    "    \n",
    "# Metrics\n",
    "auc = roc_auc_score(y_test, y_pred_proba)\n",
    "precision = precision_score(y_test, y_pred)\n",
    "\n",
    "print(f\"AUC: {auc:.3f}\")\n",
    "print(f\"Precision: {precision:.3f}\")"
   ]
  },
  {
   "cell_type": "code",
   "execution_count": 41,
   "id": "ce1e5c88-3e38-4cc4-b5a3-3acf87e2733b",
   "metadata": {},
   "outputs": [],
   "source": [
    "from sklearn.ensemble import RandomForestClassifier, GradientBoostingClassifier"
   ]
  },
  {
   "cell_type": "code",
   "execution_count": 51,
   "id": "00dda665-b6e1-44a2-a5c7-66b3f34e127d",
   "metadata": {},
   "outputs": [
    {
     "name": "stdout",
     "output_type": "stream",
     "text": [
      "AUC: 0.968\n",
      "Precision: 0.914\n"
     ]
    }
   ],
   "source": [
    "random_forest = RandomForestClassifier(n_estimators=100, random_state=42, n_jobs=1)\n",
    "# Fit the model\n",
    "random_forest.fit(X_train, y_train)\n",
    "# Predictions\n",
    "y_pred = random_forest.predict(X_test)\n",
    "y_pred_proba = random_forest.predict_proba(X_test)[:, 1]\n",
    "    \n",
    "# Metrics\n",
    "auc = roc_auc_score(y_test, y_pred_proba)\n",
    "precision = precision_score(y_test, y_pred)\n",
    "\n",
    "print(f\"AUC: {auc:.3f}\")\n",
    "print(f\"Precision: {precision:.3f}\")\n"
   ]
  },
  {
   "cell_type": "code",
   "execution_count": 53,
   "id": "289f7d79-949f-4233-b237-d1797ac9c5b0",
   "metadata": {},
   "outputs": [
    {
     "name": "stdout",
     "output_type": "stream",
     "text": [
      "AUC: 0.916\n",
      "Precision: 0.998\n"
     ]
    }
   ],
   "source": [
    "gradient_boosting = GradientBoostingClassifier(n_estimators=100)\n",
    "# Fit the model\n",
    "gradient_boosting.fit(X_train, y_train)\n",
    "# Predictions\n",
    "y_pred = gradient_boosting.predict(X_test)\n",
    "y_pred_proba = gradient_boosting.predict_proba(X_test)[:, 1]\n",
    "    \n",
    "# Metrics\n",
    "auc = roc_auc_score(y_test, y_pred_proba)\n",
    "precision = precision_score(y_test, y_pred)\n",
    "\n",
    "print(f\"AUC: {auc:.3f}\")\n",
    "print(f\"Precision: {precision:.3f}\")"
   ]
  },
  {
   "cell_type": "code",
   "execution_count": 59,
   "id": "ee57537b-d8db-4aae-b611-16bd8f9b28c0",
   "metadata": {},
   "outputs": [
    {
     "data": {
      "image/png": "[encoded data removed]",
      "text/plain": [
       "<Figure size 800x600 with 1 Axes>"
      ]
     },
     "metadata": {},
     "output_type": "display_data"
    }
   ],
   "source": [
    "%matplotlib inline\n",
    "\n",
    "# Ensure inline plotting\n",
    "%matplotlib inline\n",
    "\n",
    "# Compute ROC curve and AUC\n",
    "fpr, tpr, _ = roc_curve(y_test, y_pred_proba)\n",
    "roc_auc = auc(fpr, tpr)\n",
    "\n",
    "# Create ROC curve plot\n",
    "plt.figure(figsize=(8, 6))\n",
    "plt.plot(fpr, tpr, color='darkorange', lw=2, label=f'ROC curve (AUC = {roc_auc:.3f})')\n",
    "plt.plot([0, 1], [0, 1], color='navy', lw=2, linestyle='--')  # Diagonal line for random classifier\n",
    "plt.xlim([0.0, 1.0])\n",
    "plt.ylim([0.0, 1.05])\n",
    "plt.xlabel('False Positive Rate')\n",
    "plt.ylabel('True Positive Rate')\n",
    "plt.title('Receiver Operating Characteristic (ROC) Curve')\n",
    "plt.legend(loc='lower right')\n",
    "plt.grid(True)\n",
    "\n",
    "# Display the plot\n",
    "plt.show()"
   ]
  },
  {
   "cell_type": "code",
   "execution_count": 64,
   "id": "5680e258-488b-4f31-b56c-e042c04f0676",
   "metadata": {},
   "outputs": [
    {
     "name": "stdout",
     "output_type": "stream",
     "text": [
      "Best XGBBoost model exported as 'churn_model.pkl'\n"
     ]
    }
   ],
   "source": [
    "import joblib\n",
    "\n",
    "# Save the model using joblib\n",
    "joblib.dump(gradient_boosting,'models/churn_model.pkl')\n",
    "\n",
    "print(\"Best XGBBoost model exported as 'churn_model.pkl'\")\n"
   ]
  },
  {
   "cell_type": "code",
   "execution_count": 80,
   "id": "85f0ad39-0587-4211-bf7a-92c020faabff",
   "metadata": {},
   "outputs": [
    {
     "data": {
      "image/png": "[encoded data removed]",
      "text/plain": [
       "<Figure size 800x300 with 1 Axes>"
      ]
     },
     "metadata": {},
     "output_type": "display_data"
    }
   ],
   "source": [
    "from sklearn.metrics import  confusion_matrix,classification_report\n",
    "import seaborn as sns\n",
    "\n",
    "# Generate confusion matrix\n",
    "cm = confusion_matrix(y_test, y_pred)\n",
    "\n",
    "# Plot confusion matrix\n",
    "plt.figure(figsize=(8, 3))\n",
    "sns.heatmap(cm, annot=True, fmt='d', cmap='Blues', cbar=False,\n",
    "            xticklabels=['Not Churn', 'Churn'], yticklabels=['Not Churn', 'Churn'])\n",
    "plt.title('Confusion Matrix')\n",
    "plt.xlabel('Predicted')\n",
    "plt.ylabel('Actual')\n",
    "plt.tight_layout()\n",
    "\n",
    "# Display the plot\n",
    "plt.show()"
   ]
  },
  {
   "cell_type": "code",
   "execution_count": 88,
   "id": "789c1cf5-64d8-4d65-9038-2c6d0bad5f36",
   "metadata": {},
   "outputs": [
    {
     "name": "stdout",
     "output_type": "stream",
     "text": [
      "AUC: 0.916\n",
      "Precision: 0.998\n"
     ]
    }
   ],
   "source": [
    "import os\n",
    "\n",
    "gradient_boosting = GradientBoostingClassifier(n_estimators=100)\n",
    "# Fit the model\n",
    "gradient_boosting.fit(X_train, y_train)\n",
    "# Predictions\n",
    "y_pred = gradient_boosting.predict(X_test)\n",
    "y_pred_proba = gradient_boosting.predict_proba(X_test)[:, 1]\n",
    "    \n",
    "# Metrics\n",
    "auc = roc_auc_score(y_test, y_pred_proba)\n",
    "precision = precision_score(y_test, y_pred)\n",
    "\n",
    "print(f\"AUC: {auc:.3f}\")\n",
    "print(f\"Precision: {precision:.3f}\")\n",
    "\n",
    "# Generate classification report\n",
    "class_report = classification_report(y_test, y_pred)\n",
    "\n",
    "# Create reports directory if it doesn't exist\n",
    "os.makedirs('reports', exist_ok=True)\n",
    "\n",
    "with open('reports/classification_report.txt', 'w') as f:\n",
    "    f.write(\"Classification Report and Metrics\\n\")\n",
    "    f.write(\"=\" * 40 + \"\\n\\n\")\n",
    "    f.write(f\"AUC: {auc:.3f}\\n\")\n",
    "    f.write(f\"Precision: {precision:.3f}\\n\\n\")\n",
    "    f.write(\"Classification Report:\\n\")\n",
    "    f.write(class_report)"
   ]
  },
  {
   "cell_type": "code",
   "execution_count": null,
   "id": "647734d9-c9b1-4e2c-9ebc-b8f7256055c6",
   "metadata": {},
   "outputs": [],
   "source": []
  },
  {
   "cell_type": "code",
   "execution_count": null,
   "id": "0845b9e2-4f84-4b13-969f-835b30a23fa7",
   "metadata": {},
   "outputs": [],
   "source": []
  },
  {
   "cell_type": "code",
   "execution_count": null,
   "id": "e25dcdfc-2628-423c-bb3e-1c535519b6e7",
   "metadata": {},
   "outputs": [],
   "source": []
  }
 ],
 "metadata": {
  "kernelspec": {
   "display_name": "Python 3 (ipykernel)",
   "language": "python",
   "name": "python3"
  },
  "language_info": {
   "codemirror_mode": {
    "name": "ipython",
    "version": 3
   },
   "file_extension": ".py",
   "mimetype": "text/x-python",
   "name": "python",
   "nbconvert_exporter": "python",
   "pygments_lexer": "ipython3",
   "version": "3.12.4"
  }
 },
 "nbformat": 4,
 "nbformat_minor": 5
}
