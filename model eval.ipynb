{
 "cells": [
  {
   "cell_type": "code",
   "execution_count": 1,
   "id": "9d46f608-d0a7-400d-95a3-c4e2771b0fa9",
   "metadata": {},
   "outputs": [],
   "source": [
    "import pandas as pd\n",
    "import numpy as np\n",
    "from sklearn.model_selection import train_test_split, GridSearchCV,RandomizedSearchCV\n",
    "from sklearn.linear_model import LogisticRegression\n",
    "from sklearn.impute import SimpleImputer\n",
    "from sklearn.pipeline import Pipeline\n",
    "from sklearn.compose import ColumnTransformer\n",
    "from sklearn.preprocessing import MinMaxScaler, OneHotEncoder\n",
    "from sklearn.metrics import roc_auc_score, precision_score, mean_absolute_error, r2_score\n",
    "from sklearn.metrics import roc_curve, precision_recall_curve\n",
    "from imblearn.over_sampling import SMOTE\n",
    "#import xgboost as xgb\n",
    "#import shap\n",
    "import matplotlib.pyplot as plt\n",
    "from datetime import datetime\n",
    "\n"
   ]
  },
  {
   "cell_type": "code",
   "execution_count": 2,
   "id": "1e612fa0-a77e-4725-8ac5-24e3e8a45042",
   "metadata": {},
   "outputs": [],
   "source": [
    "# At this point there is no need of using this particular dataset because you have already enriched your dataset when you worked on the recency,\n",
    "# frequency and monetary. So stick to that dataset.\n",
    "riders_data = pd.read_csv('riders.csv')\n",
    "riders_rfm = pd.read_csv('riders_rfm.csv')\n",
    "df = pd.merge(riders_rfm, riders_data[['user_id', 'churn_prob','age','loyalty_status','city']], on='user_id')"
   ]
  },
  {
   "cell_type": "code",
   "execution_count": 3,
   "id": "ad685177-da87-41fe-a11d-7e17afe22d2e",
   "metadata": {},
   "outputs": [
    {
     "data": {
      "text/html": [
       "<div>\n",
       "<style scoped>\n",
       "    .dataframe tbody tr th:only-of-type {\n",
       "        vertical-align: middle;\n",
       "    }\n",
       "\n",
       "    .dataframe tbody tr th {\n",
       "        vertical-align: top;\n",
       "    }\n",
       "\n",
       "    .dataframe thead th {\n",
       "        text-align: right;\n",
       "    }\n",
       "</style>\n",
       "<table border=\"1\" class=\"dataframe\">\n",
       "  <thead>\n",
       "    <tr style=\"text-align: right;\">\n",
       "      <th></th>\n",
       "      <th>user_id</th>\n",
       "      <th>signup_date</th>\n",
       "      <th>loyalty_status</th>\n",
       "      <th>age</th>\n",
       "      <th>city</th>\n",
       "      <th>avg_rating_given</th>\n",
       "      <th>churn_prob</th>\n",
       "      <th>referred_by</th>\n",
       "    </tr>\n",
       "  </thead>\n",
       "  <tbody>\n",
       "    <tr>\n",
       "      <th>0</th>\n",
       "      <td>R00000</td>\n",
       "      <td>2025-01-24</td>\n",
       "      <td>Bronze</td>\n",
       "      <td>34.729629</td>\n",
       "      <td>Nairobi</td>\n",
       "      <td>5.0</td>\n",
       "      <td>0.142431</td>\n",
       "      <td>R00001</td>\n",
       "    </tr>\n",
       "    <tr>\n",
       "      <th>1</th>\n",
       "      <td>R00001</td>\n",
       "      <td>2024-09-09</td>\n",
       "      <td>Bronze</td>\n",
       "      <td>34.571020</td>\n",
       "      <td>Nairobi</td>\n",
       "      <td>4.7</td>\n",
       "      <td>0.674161</td>\n",
       "      <td>NaN</td>\n",
       "    </tr>\n",
       "    <tr>\n",
       "      <th>2</th>\n",
       "      <td>R00002</td>\n",
       "      <td>2024-09-07</td>\n",
       "      <td>Bronze</td>\n",
       "      <td>47.133960</td>\n",
       "      <td>Lagos</td>\n",
       "      <td>4.2</td>\n",
       "      <td>0.510379</td>\n",
       "      <td>NaN</td>\n",
       "    </tr>\n",
       "    <tr>\n",
       "      <th>3</th>\n",
       "      <td>R00003</td>\n",
       "      <td>2025-03-17</td>\n",
       "      <td>Bronze</td>\n",
       "      <td>41.658628</td>\n",
       "      <td>Nairobi</td>\n",
       "      <td>4.9</td>\n",
       "      <td>0.244779</td>\n",
       "      <td>NaN</td>\n",
       "    </tr>\n",
       "    <tr>\n",
       "      <th>4</th>\n",
       "      <td>R00004</td>\n",
       "      <td>2024-08-20</td>\n",
       "      <td>Silver</td>\n",
       "      <td>40.681709</td>\n",
       "      <td>Lagos</td>\n",
       "      <td>3.9</td>\n",
       "      <td>0.269960</td>\n",
       "      <td>R00002</td>\n",
       "    </tr>\n",
       "  </tbody>\n",
       "</table>\n",
       "</div>"
      ],
      "text/plain": [
       "  user_id signup_date loyalty_status        age     city  avg_rating_given  \\\n",
       "0  R00000  2025-01-24         Bronze  34.729629  Nairobi               5.0   \n",
       "1  R00001  2024-09-09         Bronze  34.571020  Nairobi               4.7   \n",
       "2  R00002  2024-09-07         Bronze  47.133960    Lagos               4.2   \n",
       "3  R00003  2025-03-17         Bronze  41.658628  Nairobi               4.9   \n",
       "4  R00004  2024-08-20         Silver  40.681709    Lagos               3.9   \n",
       "\n",
       "   churn_prob referred_by  \n",
       "0    0.142431      R00001  \n",
       "1    0.674161         NaN  \n",
       "2    0.510379         NaN  \n",
       "3    0.244779         NaN  \n",
       "4    0.269960      R00002  "
      ]
     },
     "execution_count": 3,
     "metadata": {},
     "output_type": "execute_result"
    }
   ],
   "source": [
    "riders_data.head()"
   ]
  },
  {
   "cell_type": "code",
   "execution_count": 4,
   "id": "36c789a4-be2b-4c1f-8e98-4f29afd3c19c",
   "metadata": {},
   "outputs": [
    {
     "data": {
      "text/html": [
       "<div>\n",
       "<style scoped>\n",
       "    .dataframe tbody tr th:only-of-type {\n",
       "        vertical-align: middle;\n",
       "    }\n",
       "\n",
       "    .dataframe tbody tr th {\n",
       "        vertical-align: top;\n",
       "    }\n",
       "\n",
       "    .dataframe thead th {\n",
       "        text-align: right;\n",
       "    }\n",
       "</style>\n",
       "<table border=\"1\" class=\"dataframe\">\n",
       "  <thead>\n",
       "    <tr style=\"text-align: right;\">\n",
       "      <th></th>\n",
       "      <th>user_id</th>\n",
       "      <th>recency</th>\n",
       "      <th>frequency</th>\n",
       "      <th>monetary</th>\n",
       "    </tr>\n",
       "  </thead>\n",
       "  <tbody>\n",
       "    <tr>\n",
       "      <th>0</th>\n",
       "      <td>R00000</td>\n",
       "      <td>48</td>\n",
       "      <td>25</td>\n",
       "      <td>366.05</td>\n",
       "    </tr>\n",
       "    <tr>\n",
       "      <th>1</th>\n",
       "      <td>R00001</td>\n",
       "      <td>28</td>\n",
       "      <td>14</td>\n",
       "      <td>180.53</td>\n",
       "    </tr>\n",
       "    <tr>\n",
       "      <th>2</th>\n",
       "      <td>R00002</td>\n",
       "      <td>37</td>\n",
       "      <td>24</td>\n",
       "      <td>378.99</td>\n",
       "    </tr>\n",
       "    <tr>\n",
       "      <th>3</th>\n",
       "      <td>R00003</td>\n",
       "      <td>84</td>\n",
       "      <td>9</td>\n",
       "      <td>121.47</td>\n",
       "    </tr>\n",
       "    <tr>\n",
       "      <th>4</th>\n",
       "      <td>R00004</td>\n",
       "      <td>35</td>\n",
       "      <td>16</td>\n",
       "      <td>268.43</td>\n",
       "    </tr>\n",
       "  </tbody>\n",
       "</table>\n",
       "</div>"
      ],
      "text/plain": [
       "  user_id  recency  frequency  monetary\n",
       "0  R00000       48         25    366.05\n",
       "1  R00001       28         14    180.53\n",
       "2  R00002       37         24    378.99\n",
       "3  R00003       84          9    121.47\n",
       "4  R00004       35         16    268.43"
      ]
     },
     "execution_count": 4,
     "metadata": {},
     "output_type": "execute_result"
    }
   ],
   "source": [
    "riders_rfm.head()"
   ]
  },
  {
   "cell_type": "code",
   "execution_count": 5,
   "id": "c9253537-5548-4800-b97c-5a7ef9ce5206",
   "metadata": {},
   "outputs": [
    {
     "data": {
      "text/html": [
       "<div>\n",
       "<style scoped>\n",
       "    .dataframe tbody tr th:only-of-type {\n",
       "        vertical-align: middle;\n",
       "    }\n",
       "\n",
       "    .dataframe tbody tr th {\n",
       "        vertical-align: top;\n",
       "    }\n",
       "\n",
       "    .dataframe thead th {\n",
       "        text-align: right;\n",
       "    }\n",
       "</style>\n",
       "<table border=\"1\" class=\"dataframe\">\n",
       "  <thead>\n",
       "    <tr style=\"text-align: right;\">\n",
       "      <th></th>\n",
       "      <th>user_id</th>\n",
       "      <th>recency</th>\n",
       "      <th>frequency</th>\n",
       "      <th>monetary</th>\n",
       "      <th>churn_prob</th>\n",
       "      <th>age</th>\n",
       "      <th>loyalty_status</th>\n",
       "      <th>city</th>\n",
       "    </tr>\n",
       "  </thead>\n",
       "  <tbody>\n",
       "    <tr>\n",
       "      <th>0</th>\n",
       "      <td>R00000</td>\n",
       "      <td>48</td>\n",
       "      <td>25</td>\n",
       "      <td>366.05</td>\n",
       "      <td>0.142431</td>\n",
       "      <td>34.729629</td>\n",
       "      <td>Bronze</td>\n",
       "      <td>Nairobi</td>\n",
       "    </tr>\n",
       "    <tr>\n",
       "      <th>1</th>\n",
       "      <td>R00001</td>\n",
       "      <td>28</td>\n",
       "      <td>14</td>\n",
       "      <td>180.53</td>\n",
       "      <td>0.674161</td>\n",
       "      <td>34.571020</td>\n",
       "      <td>Bronze</td>\n",
       "      <td>Nairobi</td>\n",
       "    </tr>\n",
       "    <tr>\n",
       "      <th>2</th>\n",
       "      <td>R00002</td>\n",
       "      <td>37</td>\n",
       "      <td>24</td>\n",
       "      <td>378.99</td>\n",
       "      <td>0.510379</td>\n",
       "      <td>47.133960</td>\n",
       "      <td>Bronze</td>\n",
       "      <td>Lagos</td>\n",
       "    </tr>\n",
       "    <tr>\n",
       "      <th>3</th>\n",
       "      <td>R00003</td>\n",
       "      <td>84</td>\n",
       "      <td>9</td>\n",
       "      <td>121.47</td>\n",
       "      <td>0.244779</td>\n",
       "      <td>41.658628</td>\n",
       "      <td>Bronze</td>\n",
       "      <td>Nairobi</td>\n",
       "    </tr>\n",
       "    <tr>\n",
       "      <th>4</th>\n",
       "      <td>R00004</td>\n",
       "      <td>35</td>\n",
       "      <td>16</td>\n",
       "      <td>268.43</td>\n",
       "      <td>0.269960</td>\n",
       "      <td>40.681709</td>\n",
       "      <td>Silver</td>\n",
       "      <td>Lagos</td>\n",
       "    </tr>\n",
       "  </tbody>\n",
       "</table>\n",
       "</div>"
      ],
      "text/plain": [
       "  user_id  recency  frequency  monetary  churn_prob        age loyalty_status  \\\n",
       "0  R00000       48         25    366.05    0.142431  34.729629         Bronze   \n",
       "1  R00001       28         14    180.53    0.674161  34.571020         Bronze   \n",
       "2  R00002       37         24    378.99    0.510379  47.133960         Bronze   \n",
       "3  R00003       84          9    121.47    0.244779  41.658628         Bronze   \n",
       "4  R00004       35         16    268.43    0.269960  40.681709         Silver   \n",
       "\n",
       "      city  \n",
       "0  Nairobi  \n",
       "1  Nairobi  \n",
       "2    Lagos  \n",
       "3  Nairobi  \n",
       "4    Lagos  "
      ]
     },
     "execution_count": 5,
     "metadata": {},
     "output_type": "execute_result"
    }
   ],
   "source": [
    "df.head()"
   ]
  },
  {
   "cell_type": "code",
   "execution_count": 6,
   "id": "282125e7-30d5-46b0-95bd-faa71181d224",
   "metadata": {},
   "outputs": [],
   "source": [
    "# Create target column\n",
    "df['churned'] = (df['churn_prob'] > 0.5).astype(int)\n",
    "df = df.drop(columns=['churn_prob'])\n",
    "\n",
    "target_column = 'churned'\n",
    "X = df.drop(columns=[target_column, 'user_id'])\n",
    "y = df[target_column]"
   ]
  },
  {
   "cell_type": "code",
   "execution_count": 7,
   "id": "ffdf6817-9bc3-4216-b8c7-9977f5344f46",
   "metadata": {},
   "outputs": [
    {
     "data": {
      "text/html": [
       "<div>\n",
       "<style scoped>\n",
       "    .dataframe tbody tr th:only-of-type {\n",
       "        vertical-align: middle;\n",
       "    }\n",
       "\n",
       "    .dataframe tbody tr th {\n",
       "        vertical-align: top;\n",
       "    }\n",
       "\n",
       "    .dataframe thead th {\n",
       "        text-align: right;\n",
       "    }\n",
       "</style>\n",
       "<table border=\"1\" class=\"dataframe\">\n",
       "  <thead>\n",
       "    <tr style=\"text-align: right;\">\n",
       "      <th></th>\n",
       "      <th>user_id</th>\n",
       "      <th>recency</th>\n",
       "      <th>frequency</th>\n",
       "      <th>monetary</th>\n",
       "      <th>age</th>\n",
       "      <th>loyalty_status</th>\n",
       "      <th>city</th>\n",
       "      <th>churned</th>\n",
       "    </tr>\n",
       "  </thead>\n",
       "  <tbody>\n",
       "    <tr>\n",
       "      <th>0</th>\n",
       "      <td>R00000</td>\n",
       "      <td>48</td>\n",
       "      <td>25</td>\n",
       "      <td>366.05</td>\n",
       "      <td>34.729629</td>\n",
       "      <td>Bronze</td>\n",
       "      <td>Nairobi</td>\n",
       "      <td>0</td>\n",
       "    </tr>\n",
       "    <tr>\n",
       "      <th>1</th>\n",
       "      <td>R00001</td>\n",
       "      <td>28</td>\n",
       "      <td>14</td>\n",
       "      <td>180.53</td>\n",
       "      <td>34.571020</td>\n",
       "      <td>Bronze</td>\n",
       "      <td>Nairobi</td>\n",
       "      <td>1</td>\n",
       "    </tr>\n",
       "    <tr>\n",
       "      <th>2</th>\n",
       "      <td>R00002</td>\n",
       "      <td>37</td>\n",
       "      <td>24</td>\n",
       "      <td>378.99</td>\n",
       "      <td>47.133960</td>\n",
       "      <td>Bronze</td>\n",
       "      <td>Lagos</td>\n",
       "      <td>1</td>\n",
       "    </tr>\n",
       "    <tr>\n",
       "      <th>3</th>\n",
       "      <td>R00003</td>\n",
       "      <td>84</td>\n",
       "      <td>9</td>\n",
       "      <td>121.47</td>\n",
       "      <td>41.658628</td>\n",
       "      <td>Bronze</td>\n",
       "      <td>Nairobi</td>\n",
       "      <td>0</td>\n",
       "    </tr>\n",
       "    <tr>\n",
       "      <th>4</th>\n",
       "      <td>R00004</td>\n",
       "      <td>35</td>\n",
       "      <td>16</td>\n",
       "      <td>268.43</td>\n",
       "      <td>40.681709</td>\n",
       "      <td>Silver</td>\n",
       "      <td>Lagos</td>\n",
       "      <td>0</td>\n",
       "    </tr>\n",
       "  </tbody>\n",
       "</table>\n",
       "</div>"
      ],
      "text/plain": [
       "  user_id  recency  frequency  monetary        age loyalty_status     city  \\\n",
       "0  R00000       48         25    366.05  34.729629         Bronze  Nairobi   \n",
       "1  R00001       28         14    180.53  34.571020         Bronze  Nairobi   \n",
       "2  R00002       37         24    378.99  47.133960         Bronze    Lagos   \n",
       "3  R00003       84          9    121.47  41.658628         Bronze  Nairobi   \n",
       "4  R00004       35         16    268.43  40.681709         Silver    Lagos   \n",
       "\n",
       "   churned  \n",
       "0        0  \n",
       "1        1  \n",
       "2        1  \n",
       "3        0  \n",
       "4        0  "
      ]
     },
     "execution_count": 7,
     "metadata": {},
     "output_type": "execute_result"
    }
   ],
   "source": [
    "df.head()"
   ]
  },
  {
   "cell_type": "code",
   "execution_count": 8,
   "id": "8f0d3847-7c61-4525-bc09-f74824de48cc",
   "metadata": {},
   "outputs": [],
   "source": [
    "categorical_columns = ['loyalty_status','city']\n",
    "numerical_columns =['recency','frequency','monetary','age',]\n",
    "            \n",
    "#Build a pipeline for numerical features:\n",
    "# Impute missing values using the median.\n",
    "# Scale the features using StandardScaler.\n",
    "numerical_pipeline = Pipeline(\n",
    "    steps=[\n",
    "        (\"imputer\",SimpleImputer(strategy=\"median\")), ## Handling Missing Values\n",
    "        (\"scaler\",MinMaxScaler()),  # Use MinMaxScaler to keep values non-negative\n",
    "        ])\n",
    "# Build a pipeline for categorical features:\n",
    "# Impute missing values using the most frequent value.\n",
    "# One-hot encode categorical features.\n",
    "categorical_pipeline = Pipeline(\n",
    "        steps=[\n",
    "            (\"imputer\", SimpleImputer(strategy=\"most_frequent\")),\n",
    "            (\"OneHotEncoder\", OneHotEncoder())\n",
    "            ])\n",
    "\n",
    "# Combine both pipelines into a single ColumnTransformer.\n",
    "preprocessor = ColumnTransformer(\n",
    "    transformers=[\n",
    "        (\"num_pipeline\", numerical_pipeline, numerical_columns),\n",
    "        (\"cat_pipeline\", categorical_pipeline, categorical_columns)\n",
    "        ])\n"
   ]
  },
  {
   "cell_type": "code",
   "execution_count": 9,
   "id": "f4cbb41e-771b-49a3-aa53-577515151cb7",
   "metadata": {},
   "outputs": [],
   "source": [
    "X_transformed = preprocessor.fit_transform(X)\n",
    "## Retrieve column names generated by the OneHotEncoder for categorical features.\n",
    "ohe = preprocessor.named_transformers_[\"cat_pipeline\"].named_steps[\"OneHotEncoder\"]\n",
    "ohe_feature_names = list(ohe.get_feature_names_out(categorical_columns))\n",
    "\n",
    "# Combine numeric columns with one-hot encoded categorical column names.\n",
    "final_columns = numerical_columns + ohe_feature_names\n",
    "\n",
    "# Construct a new DataFrame with the transformed features.\n",
    "X_transformed_df = pd.DataFrame(X_transformed, columns=final_columns)\n"
   ]
  },
  {
   "cell_type": "code",
   "execution_count": 10,
   "id": "676d0b5f-6606-4a57-afe1-52133b7aa67c",
   "metadata": {},
   "outputs": [],
   "source": [
    "#Apply SMOTE for balancing classes\n",
    "smote = SMOTE(random_state=42)\n",
    "X_resampled, y_resampled = smote.fit_resample(X_transformed_df, y)\n"
   ]
  },
  {
   "cell_type": "code",
   "execution_count": 11,
   "id": "610788e9-6d39-4232-97ac-f5b750e92e77",
   "metadata": {},
   "outputs": [
    {
     "name": "stdout",
     "output_type": "stream",
     "text": [
      "After SMOTE - Class 1: 8937, Class 0: 8937\n"
     ]
    }
   ],
   "source": [
    "print(f\"After SMOTE - Class 1: {sum(y_resampled == 1)}, Class 0: {sum(y_resampled == 0)}\")"
   ]
  },
  {
   "cell_type": "code",
   "execution_count": 12,
   "id": "6ff26e82-1730-4ca4-8f85-bf84a6457928",
   "metadata": {},
   "outputs": [],
   "source": [
    "X_train, X_test, y_train, y_test = train_test_split(\n",
    "    X_resampled, y_resampled, test_size=0.2, random_state=42, stratify=y_resampled)\n"
   ]
  },
  {
   "cell_type": "code",
   "execution_count": 13,
   "id": "f126f088-1255-4eaa-85b9-4a28e71f6c16",
   "metadata": {},
   "outputs": [
    {
     "data": {
      "text/plain": [
       "10031    1\n",
       "6172     0\n",
       "2190     0\n",
       "10375    1\n",
       "2514     0\n",
       "Name: churned, dtype: int64"
      ]
     },
     "execution_count": 13,
     "metadata": {},
     "output_type": "execute_result"
    }
   ],
   "source": [
    "y_train.head()"
   ]
  },
  {
   "cell_type": "code",
   "execution_count": 14,
   "id": "57604dda-2d67-48c7-a7c8-063228883146",
   "metadata": {},
   "outputs": [
    {
     "name": "stdout",
     "output_type": "stream",
     "text": [
      "AUC: 0.524\n",
      "Precision: 0.511\n"
     ]
    }
   ],
   "source": [
    "log_reg = LogisticRegression(random_state=42,max_iter=1000)\n",
    "# Fit the model\n",
    "log_reg.fit(X_train, y_train)\n",
    "# Predictions\n",
    "y_pred = log_reg.predict(X_test)\n",
    "y_pred_proba = log_reg.predict_proba(X_test)[:, 1]\n",
    "    \n",
    "# Metrics\n",
    "auc = roc_auc_score(y_test, y_pred_proba)\n",
    "precision = precision_score(y_test, y_pred)\n",
    "\n",
    "print(f\"AUC: {auc:.3f}\")\n",
    "print(f\"Precision: {precision:.3f}\")"
   ]
  },
  {
   "cell_type": "code",
   "execution_count": 15,
   "id": "af1b07e3-40ec-4c61-88dc-0177fe2cc474",
   "metadata": {},
   "outputs": [
    {
     "name": "stdout",
     "output_type": "stream",
     "text": [
      "AUC: 0.524\n",
      "Precision: 0.511\n"
     ]
    }
   ],
   "source": [
    "# Predictions\n",
    "y_pred = log_reg.predict(X_test)\n",
    "y_pred_proba = log_reg.predict_proba(X_test)[:, 1]\n",
    "    \n",
    "# Metrics\n",
    "auc = roc_auc_score(y_test, y_pred_proba)\n",
    "precision = precision_score(y_test, y_pred)\n",
    "\n",
    "print(f\"AUC: {auc:.3f}\")\n",
    "print(f\"Precision: {precision:.3f}\")\n"
   ]
  },
  {
   "cell_type": "code",
   "execution_count": 16,
   "id": "720ecd5f-ed08-4adf-9741-31f7bf914513",
   "metadata": {},
   "outputs": [],
   "source": [
    "from sklearn.ensemble import RandomForestClassifier, GradientBoostingClassifier"
   ]
  },
  {
   "cell_type": "code",
   "execution_count": 17,
   "id": "e09e2b17-6a4b-4314-800a-91819090d6b4",
   "metadata": {},
   "outputs": [
    {
     "name": "stdout",
     "output_type": "stream",
     "text": [
      "AUC: 0.968\n",
      "Precision: 0.914\n"
     ]
    }
   ],
   "source": [
    "random_forest = RandomForestClassifier(n_estimators=100, random_state=42, n_jobs=1)\n",
    "# Fit the model\n",
    "random_forest.fit(X_train, y_train)\n",
    "# Predictions\n",
    "y_pred = random_forest.predict(X_test)\n",
    "y_pred_proba = random_forest.predict_proba(X_test)[:, 1]\n",
    "    \n",
    "# Metrics\n",
    "auc = roc_auc_score(y_test, y_pred_proba)\n",
    "precision = precision_score(y_test, y_pred)\n",
    "\n",
    "print(f\"AUC: {auc:.3f}\")\n",
    "print(f\"Precision: {precision:.3f}\")\n"
   ]
  },
  {
   "cell_type": "code",
   "execution_count": 18,
   "id": "16b43c1c-c812-44b8-bc16-199884e8ed01",
   "metadata": {},
   "outputs": [
    {
     "name": "stdout",
     "output_type": "stream",
     "text": [
      "AUC: 0.916\n",
      "Precision: 0.998\n"
     ]
    }
   ],
   "source": [
    "gradient_boosting = GradientBoostingClassifier(n_estimators=100)\n",
    "# Fit the model\n",
    "gradient_boosting.fit(X_train, y_train)\n",
    "# Predictions\n",
    "y_pred = gradient_boosting.predict(X_test)\n",
    "y_pred_proba = gradient_boosting.predict_proba(X_test)[:, 1]\n",
    "    \n",
    "# Metrics\n",
    "auc = roc_auc_score(y_test, y_pred_proba)\n",
    "precision = precision_score(y_test, y_pred)\n",
    "\n",
    "print(f\"AUC: {auc:.3f}\")\n",
    "print(f\"Precision: {precision:.3f}\")"
   ]
  },
  {
   "cell_type": "code",
   "execution_count": 19,
   "id": "8c6263d4-5fc5-4481-877e-6a27d1f7e72f",
   "metadata": {},
   "outputs": [],
   "source": [
    "## MY EDITING ENDS HERE"
   ]
  },
  {
   "cell_type": "code",
   "execution_count": 20,
   "id": "765b85a6-8bb2-40c7-85e7-8739ad3ed7c7",
   "metadata": {},
   "outputs": [
    {
     "ename": "NameError",
     "evalue": "name 'xgb_model' is not defined",
     "output_type": "error",
     "traceback": [
      "\u001b[0;31m---------------------------------------------------------------------------\u001b[0m",
      "\u001b[0;31mNameError\u001b[0m                                 Traceback (most recent call last)",
      "Cell \u001b[0;32mIn[20], line 5\u001b[0m\n\u001b[1;32m      2\u001b[0m \u001b[38;5;28;01mfrom\u001b[39;00m \u001b[38;5;21;01msklearn\u001b[39;00m\u001b[38;5;21;01m.\u001b[39;00m\u001b[38;5;21;01mmetrics\u001b[39;00m \u001b[38;5;28;01mimport\u001b[39;00m roc_curve, auc \u001b[38;5;28;01mas\u001b[39;00m auc_func, precision_score, precision_recall_curve\n\u001b[1;32m      4\u001b[0m \u001b[38;5;66;03m# Get the best XGBoost model from GridSearchCV\u001b[39;00m\n\u001b[0;32m----> 5\u001b[0m best_xgb \u001b[38;5;241m=\u001b[39m xgb_model\u001b[38;5;241m.\u001b[39mbest_estimator_\n\u001b[1;32m      7\u001b[0m \u001b[38;5;66;03m# Predict probabilities for the validation set\u001b[39;00m\n\u001b[1;32m      8\u001b[0m y_pred_proba \u001b[38;5;241m=\u001b[39m best_xgb\u001b[38;5;241m.\u001b[39mpredict_proba(X_val)[:, \u001b[38;5;241m1\u001b[39m]  \u001b[38;5;66;03m# Probability for positive class\u001b[39;00m\n",
      "\u001b[0;31mNameError\u001b[0m: name 'xgb_model' is not defined"
     ]
    }
   ],
   "source": [
    "import matplotlib.pyplot as plt\n",
    "from sklearn.metrics import roc_curve, auc as auc_func, precision_score, precision_recall_curve\n",
    "\n",
    "# Get the best XGBoost model from GridSearchCV\n",
    "best_xgb = xgb_model.best_estimator_\n",
    "\n",
    "# Predict probabilities for the validation set\n",
    "y_pred_proba = best_xgb.predict_proba(X_val)[:, 1]  # Probability for positive class\n",
    "y_pred = best_xgb.predict(X_val)  # Predicted labels\n",
    "\n",
    "# 1. ROC Curve\n",
    "fpr, tpr, _ = roc_curve(y_val, y_pred_proba)\n",
    "roc_auc = auc_func(fpr, tpr)  # Use auc_func to avoid naming conflict\n",
    "\n",
    "plt.figure(figsize=(8, 6))\n",
    "plt.plot(fpr, tpr, color='darkorange', lw=2, label=f'ROC curve (AUC = {roc_auc:.2f})')\n",
    "plt.plot([0, 1], [0, 1], color='navy', lw=2, linestyle='--')\n",
    "plt.xlim([0.0, 1.0])\n",
    "plt.ylim([0.0, 1.05])\n",
    "plt.xlabel('False Positive Rate')\n",
    "plt.ylabel('True Positive Rate')\n",
    "plt.title('Receiver Operating Characteristic (ROC) Curve')\n",
    "plt.legend(loc='lower right')\n",
    "plt.grid(True)\n",
    "plt.show()"
   ]
  },
  {
   "cell_type": "code",
   "execution_count": null,
   "id": "8bc9ffad-4a73-4b8f-b262-efaa28ae9680",
   "metadata": {},
   "outputs": [],
   "source": [
    "# 2. Precision Score\n",
    "precision = precision_score(y_val, y_pred)\n",
    "print(f\"Precision Score: {precision:.4f}\")\n",
    "\n",
    "# Optional: Precision-Recall Curve\n",
    "precision, recall, _ = precision_recall_curve(y_val, y_pred_proba)\n",
    "plt.figure(figsize=(8, 6))\n",
    "plt.plot(recall, precision, color='purple', lw=2, label='Precision-Recall Curve')\n",
    "plt.xlabel('Recall')\n",
    "plt.ylabel('Precision')\n",
    "plt.title('Precision-Recall Curve')\n",
    "plt.legend(loc='lower left')\n",
    "plt.grid(True)\n",
    "plt.show()"
   ]
  },
  {
   "cell_type": "code",
   "execution_count": null,
   "id": "2b0ad389-ff25-467b-8378-41fb439135ab",
   "metadata": {},
   "outputs": [],
   "source": [
    "# Evaluate models\n",
    "models = {'Logistic Regression': log_reg, 'XGBoost': xgb_model}\n",
    "metrics = {}\n",
    "roc_data = {}\n",
    "pr_data = {}\n",
    "\n",
    "for name, model in models.items():\n",
    "    # Predictions\n",
    "    y_pred = model.predict(X_val)\n",
    "    y_pred_proba = model.predict_proba(X_val)[:, 1]\n",
    "    \n",
    "    # Metrics\n",
    "    auc = roc_auc_score(y_val, y_pred_proba)\n",
    "    precision = precision_score(y_val, y_pred)\n",
    "    mae = mean_absolute_error(y_val, y_pred)\n",
    "    r2 = r2_score(y_val, y_pred)\n",
    "    metrics[name] = {'AUC': auc, 'Precision': precision, 'MAE': mae, 'R2': r2}\n",
    "    \n",
    "    # ROC Curve\n",
    "    fpr, tpr, _ = roc_curve(y_val, y_pred_proba)\n",
    "    roc_data[name] = pd.DataFrame({'FPR': fpr, 'TPR': tpr})\n",
    "    \n",
    "    # PR Curve\n",
    "    precision_vals, recall, _ = precision_recall_curve(y_val, y_pred_proba)\n",
    "    pr_data[name] = pd.DataFrame({'Precision': precision_vals, 'Recall': recall})\n",
    "\n",
    "# Print metrics\n",
    "print(\"\\nModel Performance Metrics:\")\n",
    "for name, metric in metrics.items():\n",
    "    print(f\"\\n{name}:\")\n",
    "    print(f\"AUC: {metric['AUC']:.3f} {'✅' if metric['AUC'] > 0.85 else '❌'}\")\n",
    "    print(f\"Precision: {metric['Precision']:.3f} {'✅' if metric['Precision'] > 0.8 else '❌'}\")\n",
    "    print(f\"MAE: {metric['MAE']:.3f}\")\n",
    "    print(f\"R2: {metric['R2']:.3f}\")"
   ]
  },
  {
   "cell_type": "code",
   "execution_count": null,
   "id": "13b91205-25bc-4053-90da-1944a97dd1b4",
   "metadata": {},
   "outputs": [],
   "source": [
    "%matplotlib inline \n",
    "import matplotlib.pyplot as plt\n",
    "\n",
    "plt.figure(figsize=(8, 6))\n",
    "for name in pr_data:\n",
    "    plt.plot(pr_data[name]['Recall'], pr_data[name]['Precision'], label=name)\n",
    "plt.xlabel('Recall')\n",
    "plt.ylabel('Precision')\n",
    "plt.title('Precision-Recall Curves')\n",
    "plt.legend()\n",
    "plt.grid(True)\n",
    "plt.savefig('pr_curves_improved.png')  # Save the plot\n",
    "plt.show()  # Display the plot in the notebook\n",
    "plt.close()  # Close the figure to free memory"
   ]
  },
  {
   "cell_type": "code",
   "execution_count": null,
   "id": "292e22b5-648a-469e-834c-2f52c5b81f6d",
   "metadata": {},
   "outputs": [],
   "source": [
    "%matplotlib inline \n",
    "# Plot PR Curves\n",
    "plt.figure(figsize=(8, 6))\n",
    "for name in pr_data:\n",
    "    plt.plot(pr_data[name]['Recall'], pr_data[name]['Precision'], label=name)\n",
    "plt.xlabel('Recall')\n",
    "plt.ylabel('Precision')\n",
    "plt.title('Precision-Recall Curves')\n",
    "plt.legend()\n",
    "plt.grid(True)\n",
    "plt.savefig('pr_curves_improved.png')\n",
    "plt.close()\n"
   ]
  },
  {
   "cell_type": "code",
   "execution_count": null,
   "id": "6e67a937-87af-4344-a756-c56c0d590f44",
   "metadata": {},
   "outputs": [],
   "source": [
    "# SHAP Feature Importance for Logistic Regression\n",
    "explainer_log_reg = shap.LinearExplainer(best_log_reg, X_train_smote)\n",
    "shap_values_log_reg = explainer_log_reg.shap_values(X_train_smote)\n",
    "plt.figure(figsize=(10, 6))\n",
    "shap.summary_plot(shap_values_log_reg, X_train_smote, feature_names=X.columns, show=False)\n",
    "plt.title('SHAP Feature Importance - Logistic Regression')\n",
    "plt.savefig('shap_log_reg_improved.png')\n",
    "plt.close()\n",
    "\n",
    "# SHAP Feature Importance for XGBoost\n",
    "explainer_xgb = shap.TreeExplainer(best_xgb)\n",
    "shap_values_xgb = explainer_xgb.shap_values(X_train_smote)\n",
    "plt.figure(figsize=(10, 6))\n",
    "shap.summary_plot(shap_values_xgb, X_train_smote, feature_names=X.columns, show=False)\n",
    "plt.title('SHAP Feature Importance - XGBoost')\n",
    "plt.savefig('shap_xgb_improved.png')\n",
    "plt.close()\n",
    "\n",
    "# Print interesting fact\n",
    "print(\"\\n\", interesting_fact)"
   ]
  },
  {
   "cell_type": "code",
   "execution_count": null,
   "id": "f54732c5-6506-4b9f-8efa-d54ad06873ce",
   "metadata": {},
   "outputs": [],
   "source": []
  },
  {
   "cell_type": "code",
   "execution_count": null,
   "id": "a02c7f6b-cbc6-4474-8c6b-25227064acf7",
   "metadata": {},
   "outputs": [],
   "source": []
  },
  {
   "cell_type": "code",
   "execution_count": null,
   "id": "2bf5edd3-a800-4f82-8f14-7e6cf08eea30",
   "metadata": {},
   "outputs": [],
   "source": []
  },
  {
   "cell_type": "code",
   "execution_count": null,
   "id": "73033c82-42a7-41f8-bba7-1ce763b47b16",
   "metadata": {},
   "outputs": [],
   "source": []
  },
  {
   "cell_type": "code",
   "execution_count": null,
   "id": "48e24d4b-2457-448b-80cb-1422e12a8f35",
   "metadata": {},
   "outputs": [],
   "source": []
  }
 ],
 "metadata": {
  "kernelspec": {
   "display_name": "Python 3 (ipykernel)",
   "language": "python",
   "name": "python3"
  },
  "language_info": {
   "codemirror_mode": {
    "name": "ipython",
    "version": 3
   },
   "file_extension": ".py",
   "mimetype": "text/x-python",
   "name": "python",
   "nbconvert_exporter": "python",
   "pygments_lexer": "ipython3",
   "version": "3.11.7"
  }
 },
 "nbformat": 4,
 "nbformat_minor": 5
}
